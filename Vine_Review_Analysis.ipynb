{
  "cells": [
    {
      "cell_type": "code",
      "execution_count": 2,
      "metadata": {
        "id": "wLtBjyuGEG4M",
        "colab": {
          "base_uri": "https://localhost:8080/"
        },
        "outputId": "9dd19395-7614-4c4a-fbc5-110a887f3d8c"
      },
      "outputs": [
        {
          "output_type": "stream",
          "name": "stdout",
          "text": [
            "\r0% [Working]\r            \rHit:1 http://ppa.launchpad.net/c2d4u.team/c2d4u4.0+/ubuntu bionic InRelease\n",
            "\r0% [Connecting to archive.ubuntu.com (91.189.91.39)] [Waiting for headers] [Con\r                                                                               \rGet:2 http://security.ubuntu.com/ubuntu bionic-security InRelease [88.7 kB]\n",
            "\r                                                                               \rHit:3 http://ppa.launchpad.net/cran/libgit2/ubuntu bionic InRelease\n",
            "\r                                                                               \rHit:4 http://ppa.launchpad.net/deadsnakes/ppa/ubuntu bionic InRelease\n",
            "\r0% [Connecting to archive.ubuntu.com (91.189.91.39)] [Waiting for headers] [Wai\r0% [1 InRelease gpgv 15.9 kB] [Connecting to archive.ubuntu.com (91.189.91.39)]\r                                                                               \rHit:5 http://ppa.launchpad.net/graphics-drivers/ppa/ubuntu bionic InRelease\n",
            "\r0% [1 InRelease gpgv 15.9 kB] [Connecting to archive.ubuntu.com (91.189.91.39)]\r                                                                               \rGet:6 https://cloud.r-project.org/bin/linux/ubuntu bionic-cran40/ InRelease [3,626 B]\n",
            "Hit:7 http://archive.ubuntu.com/ubuntu bionic InRelease\n",
            "Get:8 http://archive.ubuntu.com/ubuntu bionic-updates InRelease [88.7 kB]\n",
            "Ign:9 https://developer.download.nvidia.com/compute/machine-learning/repos/ubuntu1804/x86_64  InRelease\n",
            "Get:10 https://developer.download.nvidia.com/compute/cuda/repos/ubuntu1804/x86_64  InRelease [1,581 B]\n",
            "Hit:11 https://developer.download.nvidia.com/compute/machine-learning/repos/ubuntu1804/x86_64  Release\n",
            "Get:12 http://security.ubuntu.com/ubuntu bionic-security/main amd64 Packages [2,992 kB]\n",
            "Get:13 http://archive.ubuntu.com/ubuntu bionic-backports InRelease [83.3 kB]\n",
            "Get:14 http://security.ubuntu.com/ubuntu bionic-security/universe amd64 Packages [1,546 kB]\n",
            "Get:15 https://developer.download.nvidia.com/compute/cuda/repos/ubuntu1804/x86_64  Packages [950 kB]\n",
            "Get:17 http://archive.ubuntu.com/ubuntu bionic-updates/main amd64 Packages [3,424 kB]\n",
            "Get:18 http://archive.ubuntu.com/ubuntu bionic-updates/universe amd64 Packages [2,324 kB]\n",
            "Fetched 11.5 MB in 4s (2,883 kB/s)\n",
            "Reading package lists... Done\n",
            "--2022-10-09 16:49:51--  https://jdbc.postgresql.org/download/postgresql-42.5.0.jar\n",
            "Resolving jdbc.postgresql.org (jdbc.postgresql.org)... 72.32.157.228, 2001:4800:3e1:1::228\n",
            "Connecting to jdbc.postgresql.org (jdbc.postgresql.org)|72.32.157.228|:443... connected.\n",
            "HTTP request sent, awaiting response... 200 OK\n",
            "Length: 1046274 (1022K) [application/java-archive]\n",
            "Saving to: ‘postgresql-42.5.0.jar’\n",
            "\n",
            "postgresql-42.5.0.j 100%[===================>]   1022K  1.66MB/s    in 0.6s    \n",
            "\n",
            "2022-10-09 16:49:53 (1.66 MB/s) - ‘postgresql-42.5.0.jar’ saved [1046274/1046274]\n",
            "\n"
          ]
        }
      ],
      "source": [
        "import os\n",
        "\n",
        "spark_version = 'spark-3.3.0'\n",
        "os.environ['SPARK_VERSION'] = spark_version\n",
        "\n",
        "# Install Spark and Java\n",
        "!apt-get update\n",
        "!apt-get install openjdk-11-jdk-headless -qq > /dev/null\n",
        "!wget -q http://www.apache.org/dist/spark/$SPARK_VERSION/$SPARK_VERSION-bin-hadoop3.tgz\n",
        "!tar xf $SPARK_VERSION-bin-hadoop3.tgz\n",
        "!pip install -q findspark\n",
        "\n",
        "# Install Postgres Driver\n",
        "!wget https://jdbc.postgresql.org/download/postgresql-42.5.0.jar\n",
        "\n",
        "# Set Environment Variables\n",
        "os.environ[\"JAVA_HOME\"] = \"/usr/lib/jvm/java-11-openjdk-amd64\"\n",
        "os.environ[\"SPARK_HOME\"] = f\"/content/{spark_version}-bin-hadoop3\"\n",
        "\n",
        "# Start a SparkSession\n",
        "import findspark\n",
        "findspark.init()"
      ]
    },
    {
      "cell_type": "code",
      "execution_count": 3,
      "metadata": {
        "id": "_xKwTpATHqSe",
        "colab": {
          "base_uri": "https://localhost:8080/"
        },
        "outputId": "caa8da02-c189-494b-b0e5-a756f01bfc83"
      },
      "outputs": [
        {
          "output_type": "stream",
          "name": "stdout",
          "text": [
            "--2022-10-09 16:49:53--  https://jdbc.postgresql.org/download/postgresql-42.2.16.jar\n",
            "Resolving jdbc.postgresql.org (jdbc.postgresql.org)... 72.32.157.228, 2001:4800:3e1:1::228\n",
            "Connecting to jdbc.postgresql.org (jdbc.postgresql.org)|72.32.157.228|:443... connected.\n",
            "HTTP request sent, awaiting response... 200 OK\n",
            "Length: 1002883 (979K) [application/java-archive]\n",
            "Saving to: ‘postgresql-42.2.16.jar’\n",
            "\n",
            "postgresql-42.2.16. 100%[===================>] 979.38K  1.59MB/s    in 0.6s    \n",
            "\n",
            "2022-10-09 16:49:54 (1.59 MB/s) - ‘postgresql-42.2.16.jar’ saved [1002883/1002883]\n",
            "\n"
          ]
        }
      ],
      "source": [
        "# Download the Postgres driver that will allow Spark to interact with Postgres.\n",
        "!wget https://jdbc.postgresql.org/download/postgresql-42.2.16.jar"
      ]
    },
    {
      "cell_type": "code",
      "execution_count": 4,
      "metadata": {
        "id": "MMqDAjVS0KN9"
      },
      "outputs": [],
      "source": [
        "from pyspark.sql import SparkSession\n",
        "spark = SparkSession.builder.appName(\"M16-Amazon-Challenge\").config(\"spark.driver.extraClassPath\",\"/content/postgresql-42.2.16.jar\").getOrCreate()"
      ]
    },
    {
      "cell_type": "code",
      "execution_count": 5,
      "metadata": {
        "id": "CtCmBhQJY-9Z",
        "colab": {
          "base_uri": "https://localhost:8080/"
        },
        "outputId": "5f2b9588-4736-4bc1-a657-f7db2a2028e6"
      },
      "outputs": [
        {
          "output_type": "stream",
          "name": "stdout",
          "text": [
            "+-----------+-----------+--------------+----------+--------------+--------------------+----------------+-----------+-------------+-----------+----+-----------------+--------------------+--------------------+-------------------+\n",
            "|marketplace|customer_id|     review_id|product_id|product_parent|       product_title|product_category|star_rating|helpful_votes|total_votes|vine|verified_purchase|     review_headline|         review_body|        review_date|\n",
            "+-----------+-----------+--------------+----------+--------------+--------------------+----------------+-----------+-------------+-----------+----+-----------------+--------------------+--------------------+-------------------+\n",
            "|         US|   12076615| RQ58W7SMO911M|0385730586|     122662979|Sisterhood of the...|           Books|          4|            2|          3|   N|                N|this book was a g...|this boook was a ...|2005-10-14 00:00:00|\n",
            "|         US|   12703090|  RF6IUKMGL8SF|0811828964|      56191234|The Bad Girl's Gu...|           Books|          3|            5|          5|   N|                N|           Fun Fluff|If you are lookin...|2005-10-14 00:00:00|\n",
            "|         US|   12257412|R1DOSHH6AI622S|1844161560|     253182049|Eisenhorn (A Warh...|           Books|          4|            1|         22|   N|                N| this isn't a review|never read it-a y...|2005-10-14 00:00:00|\n",
            "|         US|   50732546| RATOTLA3OF70O|0373836635|     348672532|Colby Conspiracy ...|           Books|          5|            2|          2|   N|                N|fine author on he...|Though she is hon...|2005-10-14 00:00:00|\n",
            "|         US|   51964897|R1TNWRKIVHVYOV|0262181533|     598678717|The Psychology of...|           Books|          4|            0|          2|   N|                N|Execellent cursor...|Review based on a...|2005-10-14 00:00:00|\n",
            "|         US|   31048862|R2F53LI9KK9MOY|0316769487|     862964341|The Catcher in th...|           Books|          4|            2|          2|   N|                N|   Interesting, fun.|My only complaint...|2005-10-14 00:00:00|\n",
            "|         US|   53000124|R1KJ6MB7MRSQFF|0805076069|     145341889|Bait and Switch: ...|           Books|          4|            9|         11|   N|                N|I viewed this the...|This book is chil...|2005-10-14 00:00:00|\n",
            "|         US|   29732693|R2XIM9LT335WHE|1581603681|     640542054|Opening Combinati...|           Books|          4|            3|         10|   N|                N|No Frills - Just ...|When looking for ...|2005-10-14 00:00:00|\n",
            "|         US|   48541186|R1VE0FQQ0QTQJN|0300108834|     915891133|A Little History ...|           Books|          5|           16|         20|   N|                Y|Simple, entertain...|Never been much f...|2005-10-14 00:00:00|\n",
            "|         US|   15280864|R1VKEE2NWSWDRU|0446531081|     880645124|Hour Game (King &...|           Books|          4|            0|          0|   N|                N|        A good read!|If you enjoy a we...|2005-10-14 00:00:00|\n",
            "|         US|   24209213|R2UP6XSVYJBJ2H|0976822105|     731931430|     Faith is a Verb|           Books|          5|            0|          0|   N|                N|Made me Question ...|I thoroughly enjo...|2005-10-14 00:00:00|\n",
            "|         US|   52253037|R21SYDQ70ILUC0|1580085695|     586052746|Furry Logic: A Gu...|           Books|          5|            1|          1|   N|                Y|    The Perfect Gift|If you are stumpe...|2005-10-14 00:00:00|\n",
            "|         US|   27925116| R7M06Z88PD7SX|0029148510|      72387289|Acts of War: Beha...|           Books|          4|           14|         14|   N|                N|Solid Book About ...|Whether intention...|2005-10-14 00:00:00|\n",
            "|         US|   15005044| RRS38KZ4WB5O2|1592285570|     702385650|Temple to the Win...|           Books|          5|            1|          1|   N|                N|A riveting accoun...|Temple to the win...|2005-10-14 00:00:00|\n",
            "|         US|   52534781|R2YDYRSLGNHPHR|0811848833|     102333549|The Star Wars Pos...|           Books|          4|           16|         19|   N|                Y|Comprehensive vis...|At last... a comp...|2005-10-14 00:00:00|\n",
            "|         US|   26217071|R1BMPM18O6VZOR|0782144276|     971452783|Photoshop for Nat...|           Books|          4|           13|         14|   N|                N|          Great Book|I find \\\\\"Photosh...|2005-10-14 00:00:00|\n",
            "|         US|   37684582|R1AABFZH0J0C0C|0375757996|     760991156|The Basic Works o...|           Books|          3|           17|         35|   N|                N|Problems with thi...|I love Aristotle ...|2005-10-14 00:00:00|\n",
            "|         US|   45232107|R3SJYLG07EHNE9|013146308X|     332774292|The Pterosaurs: F...|           Books|          2|           16|         34|   N|                N|Warmed over lefto...|To his discredit,...|2005-10-14 00:00:00|\n",
            "|         US|   15437121|R2TIO43ND87XVO|0375701907|     635714194|Straight Man: A N...|           Books|          5|            1|          1|   N|                N|       Funniest Book|Hands down, the f...|2005-10-14 00:00:00|\n",
            "|         US|   52157117|R18TY4WD19OUAO|141378240X|     656010659|   Lipstick's Legacy|           Books|          5|            1|          1|   N|                N|          Great Work|I read this book ...|2005-10-14 00:00:00|\n",
            "+-----------+-----------+--------------+----------+--------------+--------------------+----------------+-----------+-------------+-----------+----+-----------------+--------------------+--------------------+-------------------+\n",
            "only showing top 20 rows\n",
            "\n"
          ]
        }
      ],
      "source": [
        "from pyspark import SparkFiles\n",
        "url = \"https://s3.amazonaws.com/amazon-reviews-pds/tsv/amazon_reviews_us_Books_v1_02.tsv.gz\"\n",
        "spark.sparkContext.addFile(url)\n",
        "df = spark.read.option(\"encoding\", \"UTF-8\").csv(SparkFiles.get(\"amazon_reviews_us_Books_v1_02.tsv.gz\"), sep=\"\\t\", header=True, inferSchema=True)\n",
        "df.show()"
      ]
    },
    {
      "cell_type": "code",
      "source": [
        "from pyspark.sql.functions import to_date\n",
        "review_df = df.select([\"review_id\",\"customer_id\",\"product_id\",\"product_parent\",\"product_title\",\"review_date\",\"star_rating\", \"helpful_votes\",\"total_votes\",\"vine\",\"verified_purchase\"])\n",
        "review_df.show()"
      ],
      "metadata": {
        "colab": {
          "base_uri": "https://localhost:8080/"
        },
        "id": "lJoqYLQuqmTA",
        "outputId": "b9549cb4-80dd-49ab-b68c-24802567be49"
      },
      "execution_count": 8,
      "outputs": [
        {
          "output_type": "stream",
          "name": "stdout",
          "text": [
            "+--------------+-----------+----------+--------------+--------------------+-------------------+-----------+-------------+-----------+----+-----------------+\n",
            "|     review_id|customer_id|product_id|product_parent|       product_title|        review_date|star_rating|helpful_votes|total_votes|vine|verified_purchase|\n",
            "+--------------+-----------+----------+--------------+--------------------+-------------------+-----------+-------------+-----------+----+-----------------+\n",
            "| RQ58W7SMO911M|   12076615|0385730586|     122662979|Sisterhood of the...|2005-10-14 00:00:00|          4|            2|          3|   N|                N|\n",
            "|  RF6IUKMGL8SF|   12703090|0811828964|      56191234|The Bad Girl's Gu...|2005-10-14 00:00:00|          3|            5|          5|   N|                N|\n",
            "|R1DOSHH6AI622S|   12257412|1844161560|     253182049|Eisenhorn (A Warh...|2005-10-14 00:00:00|          4|            1|         22|   N|                N|\n",
            "| RATOTLA3OF70O|   50732546|0373836635|     348672532|Colby Conspiracy ...|2005-10-14 00:00:00|          5|            2|          2|   N|                N|\n",
            "|R1TNWRKIVHVYOV|   51964897|0262181533|     598678717|The Psychology of...|2005-10-14 00:00:00|          4|            0|          2|   N|                N|\n",
            "|R2F53LI9KK9MOY|   31048862|0316769487|     862964341|The Catcher in th...|2005-10-14 00:00:00|          4|            2|          2|   N|                N|\n",
            "|R1KJ6MB7MRSQFF|   53000124|0805076069|     145341889|Bait and Switch: ...|2005-10-14 00:00:00|          4|            9|         11|   N|                N|\n",
            "|R2XIM9LT335WHE|   29732693|1581603681|     640542054|Opening Combinati...|2005-10-14 00:00:00|          4|            3|         10|   N|                N|\n",
            "|R1VE0FQQ0QTQJN|   48541186|0300108834|     915891133|A Little History ...|2005-10-14 00:00:00|          5|           16|         20|   N|                Y|\n",
            "|R1VKEE2NWSWDRU|   15280864|0446531081|     880645124|Hour Game (King &...|2005-10-14 00:00:00|          4|            0|          0|   N|                N|\n",
            "|R2UP6XSVYJBJ2H|   24209213|0976822105|     731931430|     Faith is a Verb|2005-10-14 00:00:00|          5|            0|          0|   N|                N|\n",
            "|R21SYDQ70ILUC0|   52253037|1580085695|     586052746|Furry Logic: A Gu...|2005-10-14 00:00:00|          5|            1|          1|   N|                Y|\n",
            "| R7M06Z88PD7SX|   27925116|0029148510|      72387289|Acts of War: Beha...|2005-10-14 00:00:00|          4|           14|         14|   N|                N|\n",
            "| RRS38KZ4WB5O2|   15005044|1592285570|     702385650|Temple to the Win...|2005-10-14 00:00:00|          5|            1|          1|   N|                N|\n",
            "|R2YDYRSLGNHPHR|   52534781|0811848833|     102333549|The Star Wars Pos...|2005-10-14 00:00:00|          4|           16|         19|   N|                Y|\n",
            "|R1BMPM18O6VZOR|   26217071|0782144276|     971452783|Photoshop for Nat...|2005-10-14 00:00:00|          4|           13|         14|   N|                N|\n",
            "|R1AABFZH0J0C0C|   37684582|0375757996|     760991156|The Basic Works o...|2005-10-14 00:00:00|          3|           17|         35|   N|                N|\n",
            "|R3SJYLG07EHNE9|   45232107|013146308X|     332774292|The Pterosaurs: F...|2005-10-14 00:00:00|          2|           16|         34|   N|                N|\n",
            "|R2TIO43ND87XVO|   15437121|0375701907|     635714194|Straight Man: A N...|2005-10-14 00:00:00|          5|            1|          1|   N|                N|\n",
            "|R18TY4WD19OUAO|   52157117|141378240X|     656010659|   Lipstick's Legacy|2005-10-14 00:00:00|          5|            1|          1|   N|                N|\n",
            "+--------------+-----------+----------+--------------+--------------------+-------------------+-----------+-------------+-----------+----+-----------------+\n",
            "only showing top 20 rows\n",
            "\n"
          ]
        }
      ]
    },
    {
      "cell_type": "code",
      "execution_count": 9,
      "metadata": {
        "id": "lzMmkdKmY--D",
        "colab": {
          "base_uri": "https://localhost:8080/"
        },
        "outputId": "9698f918-f12e-44c1-a5b4-8e13772056ed"
      },
      "outputs": [
        {
          "output_type": "stream",
          "name": "stdout",
          "text": [
            "+--------------+-----------+-------------+-----------+----+-----------------+\n",
            "|     review_id|star_rating|helpful_votes|total_votes|vine|verified_purchase|\n",
            "+--------------+-----------+-------------+-----------+----+-----------------+\n",
            "| RQ58W7SMO911M|          4|            2|          3|   N|                N|\n",
            "|  RF6IUKMGL8SF|          3|            5|          5|   N|                N|\n",
            "|R1DOSHH6AI622S|          4|            1|         22|   N|                N|\n",
            "| RATOTLA3OF70O|          5|            2|          2|   N|                N|\n",
            "|R1TNWRKIVHVYOV|          4|            0|          2|   N|                N|\n",
            "|R2F53LI9KK9MOY|          4|            2|          2|   N|                N|\n",
            "|R1KJ6MB7MRSQFF|          4|            9|         11|   N|                N|\n",
            "|R2XIM9LT335WHE|          4|            3|         10|   N|                N|\n",
            "|R1VE0FQQ0QTQJN|          5|           16|         20|   N|                Y|\n",
            "|R1VKEE2NWSWDRU|          4|            0|          0|   N|                N|\n",
            "|R2UP6XSVYJBJ2H|          5|            0|          0|   N|                N|\n",
            "|R21SYDQ70ILUC0|          5|            1|          1|   N|                Y|\n",
            "| R7M06Z88PD7SX|          4|           14|         14|   N|                N|\n",
            "| RRS38KZ4WB5O2|          5|            1|          1|   N|                N|\n",
            "|R2YDYRSLGNHPHR|          4|           16|         19|   N|                Y|\n",
            "|R1BMPM18O6VZOR|          4|           13|         14|   N|                N|\n",
            "|R1AABFZH0J0C0C|          3|           17|         35|   N|                N|\n",
            "|R3SJYLG07EHNE9|          2|           16|         34|   N|                N|\n",
            "|R2TIO43ND87XVO|          5|            1|          1|   N|                N|\n",
            "|R18TY4WD19OUAO|          5|            1|          1|   N|                N|\n",
            "+--------------+-----------+-------------+-----------+----+-----------------+\n",
            "only showing top 20 rows\n",
            "\n"
          ]
        }
      ],
      "source": [
        "# Create the vine_table. DataFrame\n",
        "vine_df = review_df.select([\"review_id\",\"star_rating\",\"helpful_votes\",\"total_votes\",\"vine\",\"verified_purchase\"])\n",
        "vine_df.show()"
      ]
    },
    {
      "cell_type": "code",
      "source": [
        "## Deliverable 2"
      ],
      "metadata": {
        "id": "KV0IjA1vpEp1"
      },
      "execution_count": 10,
      "outputs": []
    },
    {
      "cell_type": "code",
      "source": [
        "from pyspark.sql.functions import col\n",
        "\n",
        "total_votes_df = vine_df.filter(col(\"total_votes\") >= 20)\n",
        "total_votes_df.show(10)"
      ],
      "metadata": {
        "colab": {
          "base_uri": "https://localhost:8080/"
        },
        "id": "tjN00k_8pdpc",
        "outputId": "9ff0715b-29c3-40b5-c7e9-2668fbf8d864"
      },
      "execution_count": 12,
      "outputs": [
        {
          "output_type": "stream",
          "name": "stdout",
          "text": [
            "+--------------+-----------+-------------+-----------+----+-----------------+\n",
            "|     review_id|star_rating|helpful_votes|total_votes|vine|verified_purchase|\n",
            "+--------------+-----------+-------------+-----------+----+-----------------+\n",
            "|R1DOSHH6AI622S|          4|            1|         22|   N|                N|\n",
            "|R1VE0FQQ0QTQJN|          5|           16|         20|   N|                Y|\n",
            "|R1AABFZH0J0C0C|          3|           17|         35|   N|                N|\n",
            "|R3SJYLG07EHNE9|          2|           16|         34|   N|                N|\n",
            "|R3MD5TZJGIPTDU|          5|           21|         31|   N|                N|\n",
            "|R1KPOIT5WT3NEF|          1|           13|         29|   N|                N|\n",
            "| RX6OWUF8EFZ72|          5|           27|         28|   N|                N|\n",
            "| R33IFUWCNYFSO|          2|            4|         45|   N|                N|\n",
            "| RWMT2MXG3WLDP|          5|            6|         20|   N|                N|\n",
            "|R1OPUF771LL5O5|          4|           27|         27|   N|                N|\n",
            "+--------------+-----------+-------------+-----------+----+-----------------+\n",
            "only showing top 10 rows\n",
            "\n"
          ]
        }
      ]
    },
    {
      "cell_type": "code",
      "source": [
        "percent_votes_df = total_votes_df.filter(col(\"helpful_votes\")/col(\"total_votes\") >= 0.5)\n",
        "percent_votes_df.show()"
      ],
      "metadata": {
        "colab": {
          "base_uri": "https://localhost:8080/"
        },
        "id": "1jDIolsmrZkn",
        "outputId": "673a0fd1-181a-465b-b36a-0661cea94ecc"
      },
      "execution_count": 26,
      "outputs": [
        {
          "output_type": "stream",
          "name": "stdout",
          "text": [
            "+--------------+-----------+-------------+-----------+----+-----------------+\n",
            "|     review_id|star_rating|helpful_votes|total_votes|vine|verified_purchase|\n",
            "+--------------+-----------+-------------+-----------+----+-----------------+\n",
            "|R1VE0FQQ0QTQJN|          5|           16|         20|   N|                Y|\n",
            "|R3MD5TZJGIPTDU|          5|           21|         31|   N|                N|\n",
            "| RX6OWUF8EFZ72|          5|           27|         28|   N|                N|\n",
            "|R1OPUF771LL5O5|          4|           27|         27|   N|                N|\n",
            "|R3AW5JRZYH66M5|          1|          268|        307|   N|                N|\n",
            "|R2DXLNKF0EL4CI|          4|           24|         27|   N|                Y|\n",
            "|R12EHXBC0GP2C2|          5|           23|         24|   N|                N|\n",
            "|R2JSWNTAO83X3V|          5|          145|        184|   N|                N|\n",
            "|R3THZWOBS1086J|          5|           46|         47|   N|                N|\n",
            "|R160DHJPJ4B20R|          4|           28|         30|   N|                N|\n",
            "|R27UDFNE6MY1LO|          2|           15|         24|   N|                N|\n",
            "|R34X92SSRBI0N4|          5|           26|         29|   N|                N|\n",
            "| RGTKXJ8P5O7LR|          4|           16|         21|   N|                N|\n",
            "|R1TK5Q90GGJSTN|          4|           59|         68|   N|                N|\n",
            "|R3E8UZOCG84HNO|          5|           18|         24|   N|                N|\n",
            "|R33O2810BC4UR0|          5|          101|        103|   N|                Y|\n",
            "|R1M60NYB4UPRJ8|          5|           19|         24|   N|                N|\n",
            "|R38RXR8USISV94|          4|         1150|       1228|   N|                N|\n",
            "|R2E2KP6K6OUBEX|          5|           59|         60|   N|                N|\n",
            "|R3F583X11I1RP6|          1|           40|         43|   N|                N|\n",
            "+--------------+-----------+-------------+-----------+----+-----------------+\n",
            "only showing top 20 rows\n",
            "\n"
          ]
        }
      ]
    },
    {
      "cell_type": "code",
      "source": [
        "percent_votes_df.count()"
      ],
      "metadata": {
        "colab": {
          "base_uri": "https://localhost:8080/"
        },
        "id": "flMtfLZIyBTa",
        "outputId": "98633434-40d9-454d-dea7-c7ad1a7a507f"
      },
      "execution_count": 32,
      "outputs": [
        {
          "output_type": "execute_result",
          "data": {
            "text/plain": [
              "403807"
            ]
          },
          "metadata": {},
          "execution_count": 32
        }
      ]
    },
    {
      "cell_type": "code",
      "source": [
        "paid_df = percent_votes_df.filter(col('vine') == 'Y')\n",
        "paid_df.show()"
      ],
      "metadata": {
        "colab": {
          "base_uri": "https://localhost:8080/"
        },
        "id": "opR-EcDnuf5h",
        "outputId": "2086b868-8aa2-4fbb-d38d-42a4b0452fd0"
      },
      "execution_count": 30,
      "outputs": [
        {
          "output_type": "stream",
          "name": "stdout",
          "text": [
            "+---------+-----------+-------------+-----------+----+-----------------+\n",
            "|review_id|star_rating|helpful_votes|total_votes|vine|verified_purchase|\n",
            "+---------+-----------+-------------+-----------+----+-----------------+\n",
            "+---------+-----------+-------------+-----------+----+-----------------+\n",
            "\n"
          ]
        }
      ]
    },
    {
      "cell_type": "code",
      "source": [
        "unpaid_df = percent_votes_df.filter(percent_votes_df.vine == 'N')\n",
        "unpaid_df.show()"
      ],
      "metadata": {
        "colab": {
          "base_uri": "https://localhost:8080/"
        },
        "id": "yOF3givfvVBR",
        "outputId": "a56e119d-4d17-4c5e-e40e-13255ce81a62"
      },
      "execution_count": 21,
      "outputs": [
        {
          "output_type": "stream",
          "name": "stdout",
          "text": [
            "+--------------+-----------+-------------+-----------+----+-----------------+\n",
            "|     review_id|star_rating|helpful_votes|total_votes|vine|verified_purchase|\n",
            "+--------------+-----------+-------------+-----------+----+-----------------+\n",
            "|R1VE0FQQ0QTQJN|          5|           16|         20|   N|                Y|\n",
            "|R3MD5TZJGIPTDU|          5|           21|         31|   N|                N|\n",
            "| RX6OWUF8EFZ72|          5|           27|         28|   N|                N|\n",
            "|R1OPUF771LL5O5|          4|           27|         27|   N|                N|\n",
            "|R3AW5JRZYH66M5|          1|          268|        307|   N|                N|\n",
            "|R2DXLNKF0EL4CI|          4|           24|         27|   N|                Y|\n",
            "|R12EHXBC0GP2C2|          5|           23|         24|   N|                N|\n",
            "|R2JSWNTAO83X3V|          5|          145|        184|   N|                N|\n",
            "|R3THZWOBS1086J|          5|           46|         47|   N|                N|\n",
            "|R160DHJPJ4B20R|          4|           28|         30|   N|                N|\n",
            "|R27UDFNE6MY1LO|          2|           15|         24|   N|                N|\n",
            "|R34X92SSRBI0N4|          5|           26|         29|   N|                N|\n",
            "| RGTKXJ8P5O7LR|          4|           16|         21|   N|                N|\n",
            "|R1TK5Q90GGJSTN|          4|           59|         68|   N|                N|\n",
            "|R3E8UZOCG84HNO|          5|           18|         24|   N|                N|\n",
            "|R33O2810BC4UR0|          5|          101|        103|   N|                Y|\n",
            "|R1M60NYB4UPRJ8|          5|           19|         24|   N|                N|\n",
            "|R38RXR8USISV94|          4|         1150|       1228|   N|                N|\n",
            "|R2E2KP6K6OUBEX|          5|           59|         60|   N|                N|\n",
            "|R3F583X11I1RP6|          1|           40|         43|   N|                N|\n",
            "+--------------+-----------+-------------+-----------+----+-----------------+\n",
            "only showing top 20 rows\n",
            "\n"
          ]
        }
      ]
    },
    {
      "cell_type": "code",
      "source": [
        "total_paid_reviews = paid_df.count()\n",
        "total_paid_reviews"
      ],
      "metadata": {
        "colab": {
          "base_uri": "https://localhost:8080/"
        },
        "id": "ivRlvzjLEzd2",
        "outputId": "e00d9034-280b-4989-b3f7-81582f9bfb97"
      },
      "execution_count": 36,
      "outputs": [
        {
          "output_type": "execute_result",
          "data": {
            "text/plain": [
              "0"
            ]
          },
          "metadata": {},
          "execution_count": 36
        }
      ]
    },
    {
      "cell_type": "code",
      "source": [
        "total_unpaid_reviews = unpaid_df.count()\n",
        "total_unpaid_reviews"
      ],
      "metadata": {
        "colab": {
          "base_uri": "https://localhost:8080/"
        },
        "id": "rBOOI108GolG",
        "outputId": "55131349-843f-4c65-8bc7-8f29e8f2abf1"
      },
      "execution_count": 82,
      "outputs": [
        {
          "output_type": "execute_result",
          "data": {
            "text/plain": [
              "403807"
            ]
          },
          "metadata": {},
          "execution_count": 82
        }
      ]
    },
    {
      "cell_type": "code",
      "source": [
        "paid_five_star_reviews = paid_df.filter(paid_df.star_rating == 5).count()\n",
        "paid_five_star_reviews"
      ],
      "metadata": {
        "colab": {
          "base_uri": "https://localhost:8080/"
        },
        "id": "XueNU6qsHCG2",
        "outputId": "fb64e882-f711-44ac-a482-9dcdf452eb3a"
      },
      "execution_count": 38,
      "outputs": [
        {
          "output_type": "execute_result",
          "data": {
            "text/plain": [
              "0"
            ]
          },
          "metadata": {},
          "execution_count": 38
        }
      ]
    },
    {
      "cell_type": "code",
      "source": [
        "unpaid_five_star_reviews = unpaid_df.filter(col(\"star_rating\") == 5).count()\n",
        "unpaid_five_star_reviews"
      ],
      "metadata": {
        "colab": {
          "base_uri": "https://localhost:8080/"
        },
        "id": "EDcPAbkbHHO9",
        "outputId": "9e150c86-3852-4271-a895-0212c073594c"
      },
      "execution_count": 83,
      "outputs": [
        {
          "output_type": "execute_result",
          "data": {
            "text/plain": [
              "242889"
            ]
          },
          "metadata": {},
          "execution_count": 83
        }
      ]
    },
    {
      "cell_type": "code",
      "source": [
        "#percent_paid = (paid_five_star_reviews / total_paid_reviews) * 100\n",
        "#percent_paid"
      ],
      "metadata": {
        "id": "bs1H0QmZH-Wx"
      },
      "execution_count": 84,
      "outputs": []
    },
    {
      "cell_type": "code",
      "source": [
        "percent_unpaid = (unpaid_five_star_reviews/total_unpaid_reviews) * 100\n",
        "percent_unpaid"
      ],
      "metadata": {
        "colab": {
          "base_uri": "https://localhost:8080/"
        },
        "id": "DcMSrd5FKOKh",
        "outputId": "8067a62f-aff7-4721-8ac0-60c3da129104"
      },
      "execution_count": 86,
      "outputs": [
        {
          "output_type": "execute_result",
          "data": {
            "text/plain": [
              "60.14977452099642"
            ]
          },
          "metadata": {},
          "execution_count": 86
        }
      ]
    },
    {
      "cell_type": "code",
      "source": [],
      "metadata": {
        "id": "kWAybU39OhMC"
      },
      "execution_count": null,
      "outputs": []
    }
  ],
  "metadata": {
    "colab": {
      "provenance": [],
      "collapsed_sections": []
    },
    "kernelspec": {
      "display_name": "Python 3",
      "name": "python3"
    },
    "language_info": {
      "name": "python"
    },
    "nteract": {
      "version": "0.12.3"
    }
  },
  "nbformat": 4,
  "nbformat_minor": 0
}